{
 "cells": [
  {
   "cell_type": "code",
   "execution_count": 1,
   "id": "95f42319",
   "metadata": {},
   "outputs": [],
   "source": [
    "import pandas as pd"
   ]
  },
  {
   "cell_type": "code",
   "execution_count": 7,
   "id": "693b0772",
   "metadata": {},
   "outputs": [],
   "source": [
    "genes = pd.read_csv('EpiGenes_main.csv', sep='\\t', on_bad_lines='skip')"
   ]
  },
  {
   "cell_type": "code",
   "execution_count": 3,
   "id": "64e9024d",
   "metadata": {},
   "outputs": [],
   "source": [
    "def replace_entry (epigenes_main, gene_name, targets, PMID, comment):\n",
    "    for index, row in epigenes_main.iterrows():\n",
    "            if epigenes_main.loc[index, 'HGNC_symbol'] == gene_name:\n",
    "                print(genes.loc[index])\n",
    "                print('OLD: \\n' + genes.loc[index, 'Comment'])\n",
    "                epigenes_main.at[index, 'Specific_target'] = targets\n",
    "                epigenes_main.at[index, 'PMID_function'] = PMID\n",
    "                epigenes_main.at[index, 'PMID_target'] = PMID\n",
    "                epigenes_main.at[index, 'Comment'] = comment\n",
    "                print('NEW: \\n' + genes.loc[index, 'Comment'])\n",
    "    return epigenes_main\n",
    "                "
   ]
  },
  {
   "cell_type": "code",
   "execution_count": 4,
   "id": "b981f3dc",
   "metadata": {},
   "outputs": [],
   "source": [
    "def update_entry (epigenes_main, gene_name, targets, PMID, comment):\n",
    "    for index, row in epigenes_main.iterrows():\n",
    "            if epigenes_main.loc[index, 'HGNC_symbol'] == gene_name:\n",
    "                print(epigenes_main.loc[index])\n",
    "                \n",
    "                comment_old = epigenes_main.loc[index, 'Comment']\n",
    "                print('OLD_comment: \\n' + comment_old)\n",
    "                epigenes_main.at[index, 'Comment'] = comment_old + comment\n",
    "                print('NEW_comment: \\n' + comment_old + comment)\n",
    "                \n",
    "                targets_old = epigenes_main.loc[index, 'Specific_target']\n",
    "                print('OLD_targets: \\n' + targets_old)\n",
    "                epigenes_main.at[index, 'Specific_target'] = targets_old + targets\n",
    "                print('NEW_targets: \\n' + targets_old + targets)\n",
    "                \n",
    "                PMID_func_old = epigenes_main.loc[index, 'PMID_function']\n",
    "                print('OLD_PMID_func: \\n' + PMID_func_old)\n",
    "                epigenes_main.at[index, 'PMID_function'] = PMID_func_old + PMID\n",
    "                print('NEW_PMID_func: \\n' + PMID_func_old + PMID)\n",
    "                \n",
    "                PMID_tar_old = epigenes_main.loc[index, 'PMID_target']\n",
    "                print('OLD_PMID_tar: \\n' + PMID_tar_old)\n",
    "                epigenes_main.at[index, 'PMID_target'] = PMID_tar_old + PMID\n",
    "                print('NEW_PMID_tar: \\n' + PMID_tar_old + PMID )\n",
    "                \n",
    "    return epigenes_main"
   ]
  },
  {
   "cell_type": "code",
   "execution_count": 5,
   "id": "bb99e9e3",
   "metadata": {},
   "outputs": [
    {
     "name": "stdout",
     "output_type": "stream",
     "text": [
      "Id                                                                  79\n",
      "HGNC_symbol                                                       BRD4\n",
      "Status                                                               #\n",
      "HGNC_ID                                                          13575\n",
      "HGNC_name                                     bromodomain containing 4\n",
      "GeneID                                                           23476\n",
      "UniProt_AC                                                      O60885\n",
      "UniProt_ID                                                  BRD4_HUMAN\n",
      "Domain               Bromodomain PF00439 70-151 358-444, BET PF1703...\n",
      "MGI_symbol                                                        Brd4\n",
      "MGI_ID                                                         1888520\n",
      "UniProt_AC_Mm                                                   Q9ESU6\n",
      "UniProt_ID_Mm                                               BRD4_MOUSE\n",
      "GeneTag                                                              #\n",
      "GeneDesc                                                             #\n",
      "Function                                     Histone modification read\n",
      "Modification                                                         #\n",
      "PMID_function                                                 12840145\n",
      "Complex_name                                                         #\n",
      "Target                                                         histone\n",
      "Specific_target                               H3K9, H3K14, H4K5, H4K12\n",
      "Product                                                              #\n",
      "UniProt_ID_target                                                    #\n",
      "PMID_target                                                   12840145\n",
      "Comment              Brd4 avidly binds to di- and tetraacetylated h...\n",
      "Name: 78, dtype: object\n",
      "OLD: \n",
      "Brd4 avidly binds to di- and tetraacetylated histone H4 and diacetylated H3, but weakly or not at all to mono- and unacetylated H3 and H4.\n",
      "NEW: \n",
      "Brd4 recognizes specific patterns of acetyl H4 and H3 and not unacetylated histone counterparts. Brd4 avidly binds to di- and tetraacetylated histone H4 and diacetylated H3, but weakly or not at all to mono- and unacetylated H3 and H4. BRD4 recognizes H3K27ac, binds to and activates enhancers and super-enhancers causing transcriptional activation and target gene over-expression.\n"
     ]
    }
   ],
   "source": [
    "# BRD4\n",
    "genes = replace_entry(genes, 'BRD4', \n",
    "             'H4K5ac, H4K12ac, H4K8ac, H4K16ac, H3K9ac, H3K14ac, H3K27ac',\n",
    "            '38135679, 12840145',\n",
    "            'Brd4 recognizes specific patterns of acetyl H4 and H3 and not unacetylated histone counterparts. Brd4 avidly binds to di- and tetraacetylated histone H4 and diacetylated H3, but weakly or not at all to mono- and unacetylated H3 and H4. BRD4 recognizes H3K27ac, binds to and activates enhancers and super-enhancers causing transcriptional activation and target gene over-expression.')"
   ]
  },
  {
   "cell_type": "code",
   "execution_count": 12,
   "id": "98481e16",
   "metadata": {},
   "outputs": [
    {
     "name": "stdout",
     "output_type": "stream",
     "text": [
      "Id                                                                 772\n",
      "HGNC_symbol                                                     YEATS2\n",
      "Status                                                               #\n",
      "HGNC_ID                                                          25489\n",
      "HGNC_name                                    YEATS domain containing 2\n",
      "GeneID                                                           55689\n",
      "UniProt_AC                                                      Q9ULM3\n",
      "UniProt_ID                                                 YETS2_HUMAN\n",
      "Domain                 YEATS PF03366 230-310, domain PF22951 1144-1241\n",
      "MGI_symbol                                                      Yeats2\n",
      "MGI_ID                                                         2447762\n",
      "UniProt_AC_Mm                                                   Q3TUF7\n",
      "UniProt_ID_Mm                                              YETS2_MOUSE\n",
      "GeneTag                                                              #\n",
      "GeneDesc                                                             #\n",
      "Function                                             Histone chaperone\n",
      "Modification                                                         #\n",
      "PMID_function                                      18838386,  29057918\n",
      "Complex_name                                                      ATAC\n",
      "Target                                                         histone\n",
      "Specific_target                                                H3K27ac\n",
      "Product                                                              #\n",
      "UniProt_ID_target                                                    #\n",
      "PMID_target                                        18838386,  29057918\n",
      "Comment              A YEATS2-NC2beta histone fold module that inte...\n",
      "Name: 771, dtype: object\n",
      "OLD: \n",
      "A YEATS2-NC2beta histone fold module that interacts with the TATA-binding protein (TBP) and negatively regulates transcription when recruited to a promoter. The p38 kinase-interacting protein (p38IP/FAM48A) is a novel component of STAGA with distant similarity to yeast Spt20.YEATS2 as a histone H3K27ac reader that regulates a transcriptional program essential for NSCLC tumorigenesis.\n",
      "NEW: \n",
      "A YEATS2-NC2beta histone fold module that interacts with the TATA-binding protein (TBP) and negatively regulates transcription when recruited to a promoter. The p38 kinase-interacting protein (p38IP/FAM48A) is a novel component of STAGA with distant similarity to yeast Spt20.YEATS2 as a histone H3K27ac reader that regulates a transcriptional program essential for NSCLC tumorigenesis.\n"
     ]
    }
   ],
   "source": [
    "# YEATS2\n",
    "genes = replace_entry(genes, 'YEATS2', \n",
    "                     'H3K27ac',\n",
    "                     '18838386,  29057918',\n",
    "                     'A YEATS2-NC2beta histone fold module that interacts with the TATA-binding protein (TBP) and negatively regulates transcription when recruited to a promoter. The p38 kinase-interacting protein (p38IP/FAM48A) is a novel component of STAGA with distant similarity to yeast Spt20.YEATS2 as a histone H3K27ac reader that regulates a transcriptional program essential for NSCLC tumorigenesis.')"
   ]
  },
  {
   "cell_type": "code",
   "execution_count": 14,
   "id": "9e05cd73",
   "metadata": {},
   "outputs": [],
   "source": [
    "genes.to_csv(\"EpiGenes_main.csv\",\n",
    "             sep='\\t', header=True, index = False)\n",
    "\n",
    "genes.to_excel(excel_writer = \"EpiGenes_main.xlsx\", sheet_name='epigenes_main',\n",
    "             header=True, index = False)"
   ]
  },
  {
   "cell_type": "code",
   "execution_count": 9,
   "id": "8ac49284",
   "metadata": {},
   "outputs": [],
   "source": [
    "# GAS41\n",
    "#genes = update_entry(genes, 'GAS41', \n",
    "#                     'H3K27ac, H3K27cr',\n",
    "#                     '38964523',\n",
    "#                     'GAS41 selectively recognizes H3K27 ac/cr modifications at these gene loci and recruits the BRD2 and Mediator complex to promote the transcriptional activation of these target genes')"
   ]
  }
 ],
 "metadata": {
  "kernelspec": {
   "display_name": "Python 3 (ipykernel)",
   "language": "python",
   "name": "python3"
  },
  "language_info": {
   "codemirror_mode": {
    "name": "ipython",
    "version": 3
   },
   "file_extension": ".py",
   "mimetype": "text/x-python",
   "name": "python",
   "nbconvert_exporter": "python",
   "pygments_lexer": "ipython3",
   "version": "3.9.7"
  }
 },
 "nbformat": 4,
 "nbformat_minor": 5
}
